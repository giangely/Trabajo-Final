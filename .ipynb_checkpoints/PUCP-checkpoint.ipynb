{
 "cells": [
  {
   "cell_type": "code",
   "execution_count": 2,
   "id": "053ddedb",
   "metadata": {},
   "outputs": [],
   "source": [
    "#!pip install request\n",
    "import requests"
   ]
  },
  {
   "cell_type": "markdown",
   "id": "ba3ec9e8",
   "metadata": {},
   "source": [
    "## Objetos"
   ]
  },
  {
   "cell_type": "code",
   "execution_count": 3,
   "id": "500c0843",
   "metadata": {},
   "outputs": [],
   "source": [
    "links_pucp1 = [\"https://tesis.pucp.edu.pe/repositorio/handle/20.500.12404/14\",\"https://tesis.pucp.edu.pe/repositorio/handle/20.500.12404/14/recent-submissions?offset=20\"]\n",
    "datos_requeridos = [\"dc.publisher\",\"dc.title\",\"dc.contributor.author\",\"thesis.degree.name\",\"dc.contributor.advisor\",\"dc.description.abstract\",\"dc.date.issued\"]\n",
    "datos_requeridos_2 = [\"Asesor\",\"Nombre de tesista\",\"Año de publicación\",\"Resumen\",\"Insitución\",\"Titulo de la tesis\",\"Grado\"]"
   ]
  },
  {
   "cell_type": "markdown",
   "id": "55138a91",
   "metadata": {},
   "source": [
    "Con lo siguiente, definiremos una funcion que nos extraiga los links en donde se encuentran los ficheros de cada una de las tesis, almacenandose en una lista"
   ]
  },
  {
   "cell_type": "code",
   "execution_count": 4,
   "id": "00b914a7",
   "metadata": {
    "scrolled": true
   },
   "outputs": [
    {
     "data": {
      "text/plain": [
       "['https://tesis.pucp.edu.pe/repositorio/handle/20.500.12404/23887?show=full',\n",
       " 'https://tesis.pucp.edu.pe/repositorio/handle/20.500.12404/23555?show=full',\n",
       " 'https://tesis.pucp.edu.pe/repositorio/handle/20.500.12404/23549?show=full',\n",
       " 'https://tesis.pucp.edu.pe/repositorio/handle/20.500.12404/23548?show=full',\n",
       " 'https://tesis.pucp.edu.pe/repositorio/handle/20.500.12404/23266?show=full',\n",
       " 'https://tesis.pucp.edu.pe/repositorio/handle/20.500.12404/23261?show=full',\n",
       " 'https://tesis.pucp.edu.pe/repositorio/handle/20.500.12404/23141?show=full',\n",
       " 'https://tesis.pucp.edu.pe/repositorio/handle/20.500.12404/23059?show=full',\n",
       " 'https://tesis.pucp.edu.pe/repositorio/handle/20.500.12404/22894?show=full',\n",
       " 'https://tesis.pucp.edu.pe/repositorio/handle/20.500.12404/22873?show=full',\n",
       " 'https://tesis.pucp.edu.pe/repositorio/handle/20.500.12404/22766?show=full',\n",
       " 'https://tesis.pucp.edu.pe/repositorio/handle/20.500.12404/22670?show=full',\n",
       " 'https://tesis.pucp.edu.pe/repositorio/handle/20.500.12404/22557?show=full',\n",
       " 'https://tesis.pucp.edu.pe/repositorio/handle/20.500.12404/22505?show=full',\n",
       " 'https://tesis.pucp.edu.pe/repositorio/handle/20.500.12404/22407?show=full',\n",
       " 'https://tesis.pucp.edu.pe/repositorio/handle/20.500.12404/22388?show=full',\n",
       " 'https://tesis.pucp.edu.pe/repositorio/handle/20.500.12404/22313?show=full',\n",
       " 'https://tesis.pucp.edu.pe/repositorio/handle/20.500.12404/22235?show=full',\n",
       " 'https://tesis.pucp.edu.pe/repositorio/handle/20.500.12404/22221?show=full',\n",
       " 'https://tesis.pucp.edu.pe/repositorio/handle/20.500.12404/22146?show=full',\n",
       " 'https://tesis.pucp.edu.pe/repositorio/handle/20.500.12404/22048?show=full',\n",
       " 'https://tesis.pucp.edu.pe/repositorio/handle/20.500.12404/21844?show=full',\n",
       " 'https://tesis.pucp.edu.pe/repositorio/handle/20.500.12404/21800?show=full',\n",
       " 'https://tesis.pucp.edu.pe/repositorio/handle/20.500.12404/21755?show=full',\n",
       " 'https://tesis.pucp.edu.pe/repositorio/handle/20.500.12404/21690?show=full',\n",
       " 'https://tesis.pucp.edu.pe/repositorio/handle/20.500.12404/21548?show=full',\n",
       " 'https://tesis.pucp.edu.pe/repositorio/handle/20.500.12404/21525?show=full',\n",
       " 'https://tesis.pucp.edu.pe/repositorio/handle/20.500.12404/21493?show=full',\n",
       " 'https://tesis.pucp.edu.pe/repositorio/handle/20.500.12404/21124?show=full',\n",
       " 'https://tesis.pucp.edu.pe/repositorio/handle/20.500.12404/21061?show=full',\n",
       " 'https://tesis.pucp.edu.pe/repositorio/handle/20.500.12404/20956?show=full',\n",
       " 'https://tesis.pucp.edu.pe/repositorio/handle/20.500.12404/20874?show=full',\n",
       " 'https://tesis.pucp.edu.pe/repositorio/handle/20.500.12404/20820?show=full',\n",
       " 'https://tesis.pucp.edu.pe/repositorio/handle/20.500.12404/20520?show=full',\n",
       " 'https://tesis.pucp.edu.pe/repositorio/handle/20.500.12404/20515?show=full',\n",
       " 'https://tesis.pucp.edu.pe/repositorio/handle/20.500.12404/20461?show=full',\n",
       " 'https://tesis.pucp.edu.pe/repositorio/handle/20.500.12404/20329?show=full',\n",
       " 'https://tesis.pucp.edu.pe/repositorio/handle/20.500.12404/20217?show=full',\n",
       " 'https://tesis.pucp.edu.pe/repositorio/handle/20.500.12404/20194?show=full',\n",
       " 'https://tesis.pucp.edu.pe/repositorio/handle/20.500.12404/19779?show=full']"
      ]
     },
     "execution_count": 4,
     "metadata": {},
     "output_type": "execute_result"
    }
   ],
   "source": [
    "from bs4 import BeautifulSoup\n",
    "def getTesisPucp(links):\n",
    "  links_Tesis = [] #creamos una lista vacia\n",
    "  for link in links:\n",
    "    html =  requests.get(link).text #lo convierte a texto \n",
    "    soup = BeautifulSoup(html, 'html.parser') #nos ayuda para la extraccion de datos\n",
    "    links_Tesis.extend(list(map(lambda x: 'https://tesis.pucp.edu.pe'+x.find(\"a\").get(\"href\")+'?show=full' , soup.find_all(\"h4\",class_=\"artifact-title\"))))\n",
    "    # .extend() agrega cada uno de los elemtos a la lista en el orden en el que aparecen\n",
    "    # list(map(lambda x:.....,....)) es un filtro que aplica una condición a cada elemento de una lista \n",
    "    # por lo tanto nos pide que hallemos los 'a' con 'href' encontrados en los 'h4' de la class=\"artifact-title\"\n",
    "    # y que a su vez se les agregue en el incio un 'https://tesis.pucp.edu.pe' y al final un '?show=full'\n",
    "  return links_Tesis\n",
    "getTesisPucp(links_pucp1)"
   ]
  }
 ],
 "metadata": {
  "kernelspec": {
   "display_name": "Python 3 (ipykernel)",
   "language": "python",
   "name": "python3"
  },
  "language_info": {
   "codemirror_mode": {
    "name": "ipython",
    "version": 3
   },
   "file_extension": ".py",
   "mimetype": "text/x-python",
   "name": "python",
   "nbconvert_exporter": "python",
   "pygments_lexer": "ipython3",
   "version": "3.9.12"
  }
 },
 "nbformat": 4,
 "nbformat_minor": 5
}
